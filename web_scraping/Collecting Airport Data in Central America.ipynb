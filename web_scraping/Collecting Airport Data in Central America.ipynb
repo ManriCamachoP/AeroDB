{
 "cells": [
  {
   "cell_type": "markdown",
   "id": "f11116c5",
   "metadata": {},
   "source": [
    "# Web Scraping for Collecting Airport Data\n",
    "\n",
    "## Introduction:\n",
    "\n",
    "This Jupyter Notebook focuses on collecting data about airports in Central America using web scraping from Wikipedia. The objective is to gather essential information about airport locations, names, and other relevant details.\n",
    "\n",
    "## Objectives:\n",
    "\n",
    "1. Obtain data on airports in Central America from Wikipedia.\n",
    "2. Extract key information such as airport names, locations, and other relevant details.\n",
    "3. Store the collected data in a suitable format for further analysis and use in our database.\n",
    "\n",
    "## Libraries\n",
    "\n",
    "* **Requests**: The requests library allows users to make HTTP requests to web pages, facilitating the download of HTML content from Wikipedia for further processing.\n",
    "\n",
    "* **Beautiful Soup (bs4)**: Beautiful Soup is a useful tool for parsing and searching HTML elements in the downloaded content. It enables users to extract specific information from Wikipedia pages, such as titles, paragraphs, links, and more.\n",
    "\n",
    "* **Pandas**: Pandas is an essential library for structuring and manipulating extracted data. It allows users to organize data into rows and columns, facilitating operations such as cleaning, filtering, and processing.\n"
   ]
  },
  {
   "cell_type": "code",
   "execution_count": 1,
   "id": "ee60fcfc",
   "metadata": {},
   "outputs": [],
   "source": [
    "import requests\n",
    "import bs4\n",
    "import requests\n",
    "import pandas as pd"
   ]
  },
  {
   "cell_type": "code",
   "execution_count": 84,
   "id": "fda94331",
   "metadata": {},
   "outputs": [],
   "source": [
    "def get_airlines():\n",
    "    \n",
    "    url = \"https://en.wikipedia.org/wiki/List_of_the_busiest_airports_in_Central_America\"\n",
    "\n",
    "    response = requests.get(url)\n",
    "\n",
    "    soup = bs4.BeautifulSoup(response.text, 'html.parser')\n",
    "\n",
    "    \n",
    "    airport_table = soup.find_all('table')[3]\n",
    "\n",
    "    \n",
    "    data = {\"Country\": [], \"Airport Name\": [], \"IATA Code\": [],\"ICAO Code\":[], \"City Served\": [], \"Passengers\": []}\n",
    "\n",
    "    \n",
    "    for row in airport_table.find_all('tr')[1:]:\n",
    "        columns = row.find_all('td')\n",
    "        data[\"Country\"].append(columns[1].get_text(strip=True))\n",
    "        data[\"Airport Name\"].append(columns[2].get_text(strip=True))\n",
    "        data[\"IATA Code\"].append(columns[3].get_text(strip=True).split('/')[0])\n",
    "        data[\"ICAO Code\"].append(columns[3].get_text(strip=True).split('/')[1])\n",
    "        data[\"City Served\"].append(columns[4].get_text(strip=True))\n",
    "        data[\"Passengers\"].append(int(columns[5].get_text(strip=True).replace(\",\", \"\").split('[')[0]))\n",
    "        \n",
    "\n",
    "    df = pd.DataFrame(data)\n",
    "                \n",
    "    return df"
   ]
  },
  {
   "cell_type": "code",
   "execution_count": 87,
   "id": "f996245c",
   "metadata": {
    "scrolled": true
   },
   "outputs": [
    {
     "data": {
      "text/html": [
       "<div>\n",
       "<style scoped>\n",
       "    .dataframe tbody tr th:only-of-type {\n",
       "        vertical-align: middle;\n",
       "    }\n",
       "\n",
       "    .dataframe tbody tr th {\n",
       "        vertical-align: top;\n",
       "    }\n",
       "\n",
       "    .dataframe thead th {\n",
       "        text-align: right;\n",
       "    }\n",
       "</style>\n",
       "<table border=\"1\" class=\"dataframe\">\n",
       "  <thead>\n",
       "    <tr style=\"text-align: right;\">\n",
       "      <th></th>\n",
       "      <th>Country</th>\n",
       "      <th>Airport Name</th>\n",
       "      <th>IATA Code</th>\n",
       "      <th>ICAO Code</th>\n",
       "      <th>City Served</th>\n",
       "      <th>Passengers</th>\n",
       "    </tr>\n",
       "  </thead>\n",
       "  <tbody>\n",
       "    <tr>\n",
       "      <th>0</th>\n",
       "      <td>Panama</td>\n",
       "      <td>Tocumen International Airport</td>\n",
       "      <td>PTY</td>\n",
       "      <td>MPTO</td>\n",
       "      <td>Panamá City</td>\n",
       "      <td>14741937</td>\n",
       "    </tr>\n",
       "    <tr>\n",
       "      <th>1</th>\n",
       "      <td>Costa Rica</td>\n",
       "      <td>Juan Santamaría International Airport</td>\n",
       "      <td>SJO</td>\n",
       "      <td>MROC</td>\n",
       "      <td>San José</td>\n",
       "      <td>6456750</td>\n",
       "    </tr>\n",
       "    <tr>\n",
       "      <th>2</th>\n",
       "      <td>El Salvador</td>\n",
       "      <td>Comalapa International Airport</td>\n",
       "      <td>SAL</td>\n",
       "      <td>MSLP</td>\n",
       "      <td>San Salvador</td>\n",
       "      <td>2984764</td>\n",
       "    </tr>\n",
       "    <tr>\n",
       "      <th>3</th>\n",
       "      <td>Guatemala</td>\n",
       "      <td>La Aurora International Airport</td>\n",
       "      <td>GUA</td>\n",
       "      <td>MGGT</td>\n",
       "      <td>Guatemala City</td>\n",
       "      <td>2579123</td>\n",
       "    </tr>\n",
       "    <tr>\n",
       "      <th>4</th>\n",
       "      <td>Nicaragua</td>\n",
       "      <td>Augusto C. Sandino International Airport</td>\n",
       "      <td>MGA</td>\n",
       "      <td>MNMG</td>\n",
       "      <td>Managua</td>\n",
       "      <td>1533034</td>\n",
       "    </tr>\n",
       "  </tbody>\n",
       "</table>\n",
       "</div>"
      ],
      "text/plain": [
       "       Country                              Airport Name IATA Code ICAO Code  \\\n",
       "0       Panama             Tocumen International Airport       PTY      MPTO   \n",
       "1   Costa Rica     Juan Santamaría International Airport       SJO      MROC   \n",
       "2  El Salvador            Comalapa International Airport       SAL      MSLP   \n",
       "3    Guatemala           La Aurora International Airport       GUA      MGGT   \n",
       "4    Nicaragua  Augusto C. Sandino International Airport       MGA      MNMG   \n",
       "\n",
       "      City Served  Passengers  \n",
       "0     Panamá City    14741937  \n",
       "1        San José     6456750  \n",
       "2    San Salvador     2984764  \n",
       "3  Guatemala City     2579123  \n",
       "4         Managua     1533034  "
      ]
     },
     "execution_count": 87,
     "metadata": {},
     "output_type": "execute_result"
    }
   ],
   "source": [
    "get_airlines().head()"
   ]
  },
  {
   "cell_type": "code",
   "execution_count": 86,
   "id": "3a6be1f8",
   "metadata": {},
   "outputs": [],
   "source": [
    "df.to_csv('Airports_Data.csv')"
   ]
  }
 ],
 "metadata": {
  "kernelspec": {
   "display_name": "Python 3 (ipykernel)",
   "language": "python",
   "name": "python3"
  },
  "language_info": {
   "codemirror_mode": {
    "name": "ipython",
    "version": 3
   },
   "file_extension": ".py",
   "mimetype": "text/x-python",
   "name": "python",
   "nbconvert_exporter": "python",
   "pygments_lexer": "ipython3",
   "version": "3.11.6"
  }
 },
 "nbformat": 4,
 "nbformat_minor": 5
}
