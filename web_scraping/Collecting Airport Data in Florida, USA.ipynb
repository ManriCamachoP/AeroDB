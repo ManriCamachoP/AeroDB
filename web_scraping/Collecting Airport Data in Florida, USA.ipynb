{
 "cells": [
  {
   "cell_type": "markdown",
   "id": "f11116c5",
   "metadata": {},
   "source": [
    "# Web Scraping for Collecting Airport Data\n",
    "\n",
    "## Introduction:\n",
    "\n",
    "This Jupyter Notebook focuses on collecting data about airports in Florida, USA using web scraping from Wikipedia. The objective is to gather essential information about airport locations, names, and other relevant details.\n",
    "\n",
    "## Objectives:\n",
    "\n",
    "1. Obtain data on airports in Florida from Wikipedia.\n",
    "2. Extract key information such as airport names, locations, and other relevant details.\n",
    "3. Store the collected data in a suitable format for further analysis and use in our database.\n",
    "\n",
    "## Libraries\n",
    "\n",
    "* **Requests**: The requests library allows users to make HTTP requests to web pages, facilitating the download of HTML content from Wikipedia for further processing.\n",
    "\n",
    "* **Beautiful Soup (bs4)**: Beautiful Soup is a useful tool for parsing and searching HTML elements in the downloaded content. It enables users to extract specific information from Wikipedia pages, such as titles, paragraphs, links, and more.\n",
    "\n",
    "* **Pandas**: Pandas is an essential library for structuring and manipulating extracted data. It allows users to organize data into rows and columns, facilitating operations such as cleaning, filtering, and processing.\n"
   ]
  },
  {
   "cell_type": "code",
   "execution_count": 1,
   "id": "ee60fcfc",
   "metadata": {},
   "outputs": [],
   "source": [
    "import requests\n",
    "import bs4\n",
    "import requests\n",
    "import pandas as pd\n",
    "import re"
   ]
  },
  {
   "cell_type": "code",
   "execution_count": 7,
   "id": "fda94331",
   "metadata": {},
   "outputs": [],
   "source": [
    "def get_airport():\n",
    "    \n",
    "    url = \"https://en.wikipedia.org/wiki/List_of_airports_in_Florida\"\n",
    "\n",
    "    response = requests.get(url)\n",
    "\n",
    "    soup = bs4.BeautifulSoup(response.text, 'html.parser')\n",
    "\n",
    "    airport_table = soup.find('table', {'class': 'wikitable'})\n",
    "\n",
    "    data = {\"Airport Name\": [], \"Location\": [], \"FAA Code\": [], \"ICAO Code\": [], \"Usage\": []}\n",
    "\n",
    "    for row in airport_table.find_all('tr')[1:]:\n",
    "        columns = row.find_all(['th', 'td'])\n",
    "        \n",
    "        # Check if ICAO Code is there\n",
    "        icao_code = columns[3].get_text(strip=True)\n",
    "        if icao_code:\n",
    "            data[\"Airport Name\"].append(columns[0].get_text(strip=True))\n",
    "            data[\"Location\"].append(columns[1].get_text(strip=True))\n",
    "            data[\"FAA Code\"].append(columns[2].get_text(strip=True))\n",
    "            data[\"ICAO Code\"].append(icao_code)\n",
    "            data[\"Usage\"].append(columns[4].get_text(strip=True))\n",
    "\n",
    "    df = pd.DataFrame(data)\n",
    "    return df\n",
    "\n",
    "    df = pd.DataFrame(data)\n",
    "    \n",
    "    return df"
   ]
  },
  {
   "cell_type": "code",
   "execution_count": 8,
   "id": "f996245c",
   "metadata": {
    "scrolled": true
   },
   "outputs": [],
   "source": [
    "df = get_airport()"
   ]
  },
  {
   "cell_type": "code",
   "execution_count": 9,
   "id": "059211af",
   "metadata": {},
   "outputs": [
    {
     "data": {
      "text/html": [
       "<div>\n",
       "<style scoped>\n",
       "    .dataframe tbody tr th:only-of-type {\n",
       "        vertical-align: middle;\n",
       "    }\n",
       "\n",
       "    .dataframe tbody tr th {\n",
       "        vertical-align: top;\n",
       "    }\n",
       "\n",
       "    .dataframe thead th {\n",
       "        text-align: right;\n",
       "    }\n",
       "</style>\n",
       "<table border=\"1\" class=\"dataframe\">\n",
       "  <thead>\n",
       "    <tr style=\"text-align: right;\">\n",
       "      <th></th>\n",
       "      <th>Airport Name</th>\n",
       "      <th>Location</th>\n",
       "      <th>FAA Code</th>\n",
       "      <th>ICAO Code</th>\n",
       "      <th>Usage</th>\n",
       "    </tr>\n",
       "  </thead>\n",
       "  <tbody>\n",
       "    <tr>\n",
       "      <th>0</th>\n",
       "      <td>Daytona Beach</td>\n",
       "      <td>DAB</td>\n",
       "      <td>DAB</td>\n",
       "      <td>KDAB</td>\n",
       "      <td>Daytona Beach International Airport</td>\n",
       "    </tr>\n",
       "    <tr>\n",
       "      <th>1</th>\n",
       "      <td>Fort Lauderdale</td>\n",
       "      <td>FLL</td>\n",
       "      <td>FLL</td>\n",
       "      <td>KFLL</td>\n",
       "      <td>Fort Lauderdale–Hollywood International Airport</td>\n",
       "    </tr>\n",
       "    <tr>\n",
       "      <th>2</th>\n",
       "      <td>Fort Myers</td>\n",
       "      <td>RSW</td>\n",
       "      <td>RSW</td>\n",
       "      <td>KRSW</td>\n",
       "      <td>Southwest Florida International Airport</td>\n",
       "    </tr>\n",
       "    <tr>\n",
       "      <th>3</th>\n",
       "      <td>Fort Walton Beach</td>\n",
       "      <td>VPS</td>\n",
       "      <td>VPS</td>\n",
       "      <td>KVPS</td>\n",
       "      <td>Destin–Fort Walton Beach Airport/Eglin Air For...</td>\n",
       "    </tr>\n",
       "    <tr>\n",
       "      <th>4</th>\n",
       "      <td>Gainesville</td>\n",
       "      <td>GNV</td>\n",
       "      <td>GNV</td>\n",
       "      <td>KGNV</td>\n",
       "      <td>Gainesville Regional Airport</td>\n",
       "    </tr>\n",
       "  </tbody>\n",
       "</table>\n",
       "</div>"
      ],
      "text/plain": [
       "        Airport Name Location FAA Code ICAO Code  \\\n",
       "0      Daytona Beach      DAB      DAB      KDAB   \n",
       "1    Fort Lauderdale      FLL      FLL      KFLL   \n",
       "2         Fort Myers      RSW      RSW      KRSW   \n",
       "3  Fort Walton Beach      VPS      VPS      KVPS   \n",
       "4        Gainesville      GNV      GNV      KGNV   \n",
       "\n",
       "                                               Usage  \n",
       "0                Daytona Beach International Airport  \n",
       "1    Fort Lauderdale–Hollywood International Airport  \n",
       "2            Southwest Florida International Airport  \n",
       "3  Destin–Fort Walton Beach Airport/Eglin Air For...  \n",
       "4                       Gainesville Regional Airport  "
      ]
     },
     "execution_count": 9,
     "metadata": {},
     "output_type": "execute_result"
    }
   ],
   "source": [
    "df.head()"
   ]
  },
  {
   "cell_type": "code",
   "execution_count": 10,
   "id": "f96ac2d5",
   "metadata": {},
   "outputs": [],
   "source": [
    "df.to_csv('Airports_Data.csv')"
   ]
  },
  {
   "cell_type": "code",
   "execution_count": null,
   "id": "8effe40d-a311-4d09-8c17-2c7b25a46b9f",
   "metadata": {},
   "outputs": [],
   "source": []
  }
 ],
 "metadata": {
  "kernelspec": {
   "display_name": "Python 3 (ipykernel)",
   "language": "python",
   "name": "python3"
  },
  "language_info": {
   "codemirror_mode": {
    "name": "ipython",
    "version": 3
   },
   "file_extension": ".py",
   "mimetype": "text/x-python",
   "name": "python",
   "nbconvert_exporter": "python",
   "pygments_lexer": "ipython3",
   "version": "3.11.6"
  }
 },
 "nbformat": 4,
 "nbformat_minor": 5
}
