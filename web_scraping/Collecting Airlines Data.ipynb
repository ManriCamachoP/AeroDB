{
 "cells": [
  {
   "cell_type": "code",
   "execution_count": null,
   "id": "e406ff48-e5a9-48b0-ae86-be75bfb2efe2",
   "metadata": {},
   "outputs": [],
   "source": []
  },
  {
   "cell_type": "code",
   "execution_count": null,
   "id": "06f626c2-0e7a-4251-83c5-785383bacfb1",
   "metadata": {},
   "outputs": [],
   "source": [
    "def get_airlines():\n",
    "    \n",
    "    # URL de la página de Wikipedia\n",
    "    url = \"https://en.wikipedia.org/wiki/List_of_airline_codes\"\n",
    "\n",
    "    response = requests.get(url)\n",
    "\n",
    "    soup = BeautifulSoup(response.text, 'html.parser')\n",
    "\n",
    "    # Encontrar la tabla que contiene los códigos IATA\n",
    "    iata_table = soup.find('table', {'class': 'wikitable'})\n",
    "\n",
    "    # Inicializar una lista para almacenar los datos de la tabla\n",
    "    iata_data = []\n",
    "\n",
    "    # Recorrer las filas de la tabla\n",
    "    for row in iata_table.find_all('tr')[1:]:  # Ignorar la primera fila que contiene encabezados\n",
    "        \n",
    "        # Obtener todas las celdas de la fila\n",
    "        cells = row.find_all('td')\n",
    "        \n",
    "        if len(cells) >= 4:\n",
    "            \n",
    "            # Obtener el código IATA y comprobar si no está vacío\n",
    "            iata_code = cells[0].get_text(strip=True)\n",
    "            iaco = cells[1].get_text(strip=True)\n",
    "            \n",
    "            if iata_code and iaco:\n",
    "                \n",
    "                # Si el código IATA ni IACO no está vacío\n",
    "                airline_name = cells[2].get_text(strip=True)\n",
    "                call_sign = cells[3].get_text(strip=True)\n",
    "                country = cells[4].get_text(strip=True)\n",
    "\n",
    "                # Agregar los datos a la lista\n",
    "                iata_data.append([iata_code, iaco, airline_name, call_sign,country])\n",
    "                \n",
    "    return iata_data"
   ]
  }
 ],
 "metadata": {
  "kernelspec": {
   "display_name": "Python 3 (ipykernel)",
   "language": "python",
   "name": "python3"
  },
  "language_info": {
   "codemirror_mode": {
    "name": "ipython",
    "version": 3
   },
   "file_extension": ".py",
   "mimetype": "text/x-python",
   "name": "python",
   "nbconvert_exporter": "python",
   "pygments_lexer": "ipython3",
   "version": "3.11.6"
  }
 },
 "nbformat": 4,
 "nbformat_minor": 5
}
