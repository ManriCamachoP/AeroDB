{
 "cells": [
  {
   "cell_type": "markdown",
   "id": "c68d0898-2288-4301-9b54-cbc1a41e4724",
   "metadata": {},
   "source": [
    "# Web Scraping for Collecting Airlines Data\n",
    "\n",
    "## Introduction:\n",
    "\n",
    "This Jupyter Notebook focuses on collecting data about airlines all around the world using web scraping from Wikipedia. \n",
    "\n",
    "## Objectives:\n",
    "\n",
    "1. Obtain data on airlines all around the world from Wikipedia.\n",
    "2. Store the collected data in a suitable format for further analysis and use in our database.\n",
    "\n",
    "## Libraries\n",
    "\n",
    "* **Requests**: The requests library allows users to make HTTP requests to web pages, facilitating the download of HTML content from Wikipedia for further processing.\n",
    "\n",
    "* **Beautiful Soup (bs4)**: Beautiful Soup is a useful tool for parsing and searching HTML elements in the downloaded content. It enables users to extract specific information from Wikipedia pages, such as titles, paragraphs, links, and more.\n",
    "\n",
    "* **Pandas**: Pandas is an essential library for structuring and manipulating extracted data. It allows users to organize data into rows and columns, facilitating operations such as cleaning, filtering, and processing."
   ]
  },
  {
   "cell_type": "code",
   "execution_count": 3,
   "id": "feebd875-2639-4b87-85a9-f375c7ff3d91",
   "metadata": {},
   "outputs": [],
   "source": [
    "import requests\n",
    "import bs4\n",
    "import pandas as pd"
   ]
  },
  {
   "cell_type": "code",
   "execution_count": 21,
   "id": "06f626c2-0e7a-4251-83c5-785383bacfb1",
   "metadata": {},
   "outputs": [],
   "source": [
    "def get_airlines():\n",
    "    \n",
    "    # URL de la página de Wikipedia\n",
    "    url = \"https://en.wikipedia.org/wiki/List_of_airline_codes\"\n",
    "\n",
    "    response = requests.get(url)\n",
    "\n",
    "    soup = bs4.BeautifulSoup(response.text, 'html.parser')\n",
    "\n",
    "    # Encontrar la tabla que contiene los códigos IATA\n",
    "    iata_table = soup.find('table', {'class': 'wikitable'})\n",
    "\n",
    "    # Inicializar una lista para almacenar los datos de la tabla\n",
    "    iata_data = []\n",
    "\n",
    "    # Recorrer las filas de la tabla\n",
    "    for row in iata_table.find_all('tr')[1:]:  # Ignorar la primera fila que contiene encabezados\n",
    "        \n",
    "        # Obtener todas las celdas de la fila\n",
    "        cells = row.find_all('td')\n",
    "        \n",
    "        if len(cells) >= 4:\n",
    "            \n",
    "            # Obtener el código IATA y comprobar si no está vacío\n",
    "            iata_code = cells[0].get_text(strip=True)\n",
    "            iaco = cells[1].get_text(strip=True)\n",
    "            \n",
    "            if (iata_code and iata_code !=\"n/a\") and (iaco and iaco != \"n/a\"):\n",
    "                \n",
    "                # Si el código IATA ni IACO no está vacío\n",
    "                airline_name = cells[2].get_text(strip=True)\n",
    "                call_sign = cells[3].get_text(strip=True)\n",
    "                country = cells[4].get_text(strip=True)\n",
    "\n",
    "                # Agregar los datos a la lista\n",
    "                iata_data.append([iata_code, iaco, airline_name, call_sign,country])\n",
    "                \n",
    "    return pd.DataFrame(iata_data, columns=[\"iata\", \"iaco\", \"airline_name\", \"call_sign\",\"country\"])"
   ]
  },
  {
   "cell_type": "code",
   "execution_count": 22,
   "id": "531e7905-7155-487e-a3c8-abd87600169c",
   "metadata": {},
   "outputs": [],
   "source": [
    "data = get_airlines()"
   ]
  },
  {
   "cell_type": "code",
   "execution_count": 24,
   "id": "556323e5-fae7-4940-b7fe-3bb8b50b96db",
   "metadata": {},
   "outputs": [
    {
     "data": {
      "text/html": [
       "<div>\n",
       "<style scoped>\n",
       "    .dataframe tbody tr th:only-of-type {\n",
       "        vertical-align: middle;\n",
       "    }\n",
       "\n",
       "    .dataframe tbody tr th {\n",
       "        vertical-align: top;\n",
       "    }\n",
       "\n",
       "    .dataframe thead th {\n",
       "        text-align: right;\n",
       "    }\n",
       "</style>\n",
       "<table border=\"1\" class=\"dataframe\">\n",
       "  <thead>\n",
       "    <tr style=\"text-align: right;\">\n",
       "      <th></th>\n",
       "      <th>iata</th>\n",
       "      <th>iaco</th>\n",
       "      <th>airline_name</th>\n",
       "      <th>call_sign</th>\n",
       "      <th>country</th>\n",
       "    </tr>\n",
       "  </thead>\n",
       "  <tbody>\n",
       "    <tr>\n",
       "      <th>0</th>\n",
       "      <td>PR</td>\n",
       "      <td>BOI</td>\n",
       "      <td>2GO</td>\n",
       "      <td>ABAIR</td>\n",
       "      <td>Philippines</td>\n",
       "    </tr>\n",
       "    <tr>\n",
       "      <th>1</th>\n",
       "      <td>2T</td>\n",
       "      <td>TBS</td>\n",
       "      <td>Timbis Air</td>\n",
       "      <td>TIMBIS</td>\n",
       "      <td>Kenya</td>\n",
       "    </tr>\n",
       "    <tr>\n",
       "      <th>2</th>\n",
       "      <td>3F</td>\n",
       "      <td>FIE</td>\n",
       "      <td>FlyOne Armenia</td>\n",
       "      <td>ARMRIDER</td>\n",
       "      <td>Armenia</td>\n",
       "    </tr>\n",
       "    <tr>\n",
       "      <th>3</th>\n",
       "      <td>Q5</td>\n",
       "      <td>MLA</td>\n",
       "      <td>40-Mile Air</td>\n",
       "      <td>MILE-AIR</td>\n",
       "      <td>United States</td>\n",
       "    </tr>\n",
       "    <tr>\n",
       "      <th>4</th>\n",
       "      <td>4D</td>\n",
       "      <td>ASD</td>\n",
       "      <td>Air Sinai</td>\n",
       "      <td>AIR SINAI</td>\n",
       "      <td>Egypt</td>\n",
       "    </tr>\n",
       "  </tbody>\n",
       "</table>\n",
       "</div>"
      ],
      "text/plain": [
       "  iata iaco    airline_name  call_sign        country\n",
       "0   PR  BOI             2GO      ABAIR    Philippines\n",
       "1   2T  TBS      Timbis Air     TIMBIS          Kenya\n",
       "2   3F  FIE  FlyOne Armenia   ARMRIDER        Armenia\n",
       "3   Q5  MLA     40-Mile Air   MILE-AIR  United States\n",
       "4   4D  ASD       Air Sinai  AIR SINAI          Egypt"
      ]
     },
     "execution_count": 24,
     "metadata": {},
     "output_type": "execute_result"
    }
   ],
   "source": [
    "data.head()"
   ]
  },
  {
   "cell_type": "code",
   "execution_count": 25,
   "id": "ddc4c5b8-5d73-4bc1-af51-1d1eab2a934a",
   "metadata": {},
   "outputs": [],
   "source": [
    "data.to_csv(\"Airlines.csv\")"
   ]
  }
 ],
 "metadata": {
  "kernelspec": {
   "display_name": "Python 3 (ipykernel)",
   "language": "python",
   "name": "python3"
  },
  "language_info": {
   "codemirror_mode": {
    "name": "ipython",
    "version": 3
   },
   "file_extension": ".py",
   "mimetype": "text/x-python",
   "name": "python",
   "nbconvert_exporter": "python",
   "pygments_lexer": "ipython3",
   "version": "3.11.6"
  }
 },
 "nbformat": 4,
 "nbformat_minor": 5
}
